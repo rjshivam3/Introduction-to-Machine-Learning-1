{
 "cells": [
  {
   "cell_type": "markdown",
   "id": "0111bd9b-6e25-4abe-a7b7-8fdb545097c5",
   "metadata": {},
   "source": [
    "## Q1: Explain the following with an example\n",
    "\n",
    "### Artificial Intelligence (AI)\n",
    "Artificial Intelligence refers to the simulation of human intelligence in machines that are programmed to think and act like humans. Examples include:\n",
    "- Siri on Apple devices\n",
    "- ChatGPT by OpenAI\n",
    "\n",
    "### Machine Learning (ML)\n",
    "Machine Learning is a subset of AI that involves the use of algorithms and statistical models to enable a system to improve its performance on a task with data. Examples include:\n",
    "- Email spam filtering\n",
    "- Predictive text on smartphones\n",
    "\n",
    "### Deep Learning (DL)\n",
    "Deep Learning is a subset of ML that uses neural networks with many layers (deep neural networks) to model complex patterns in data. Examples include:\n",
    "- Image recognition\n",
    "- Speech recognition\n"
   ]
  },
  {
   "cell_type": "markdown",
   "id": "b99f32d3-9f79-4eb0-957a-fa11b9c2f276",
   "metadata": {},
   "source": [
    "## Q2: What is supervised learning? List some examples of supervised learning.\n",
    "\n",
    "Supervised learning is a type of machine learning where the model is trained on labeled data, i.e., data that includes both input and output. The goal is to learn a mapping from inputs to outputs.\n",
    "\n",
    "Examples:\n",
    "- Linear Regression\n",
    "- Decision Trees\n",
    "- Support Vector Machines\n"
   ]
  },
  {
   "cell_type": "markdown",
   "id": "1b1e9dcb-bcd9-45db-8671-8ad30ef6aeb8",
   "metadata": {},
   "source": [
    "## Q3: What is unsupervised learning? List some examples of unsupervised learning.\n",
    "\n",
    "Unsupervised learning is a type of machine learning where the model is trained on unlabeled data and must find patterns and relationships within the data.\n",
    "\n",
    "Examples:\n",
    "- K-means Clustering\n",
    "- Principal Component Analysis (PCA)\n",
    "- Autoencoders\n"
   ]
  },
  {
   "cell_type": "markdown",
   "id": "f2b898ec-b909-4f4a-bbf4-e9382aa0f156",
   "metadata": {},
   "source": [
    "## Q4: What is the difference between AI, ML, DL, and DS?\n",
    "\n",
    "- **Artificial Intelligence (AI)**: Broad field aimed at creating systems capable of intelligent behavior.\n",
    "- **Machine Learning (ML)**: Subfield of AI focused on algorithms that learn from data.\n",
    "- **Deep Learning (DL)**: Subfield of ML using neural networks with many layers.\n",
    "- **Data Science (DS)**: Interdisciplinary field focusing on extracting knowledge and insights from data.\n"
   ]
  },
  {
   "cell_type": "markdown",
   "id": "8233f83f-f39b-4ac4-93ad-15a92802e70f",
   "metadata": {},
   "source": [
    "## Q5: What are the main differences between supervised, unsupervised, and semi-supervised learning?\n",
    "\n",
    "- **Supervised Learning**: Uses labeled data to learn a mapping from inputs to outputs.\n",
    "- **Unsupervised Learning**: Uses unlabeled data to find patterns and relationships.\n",
    "- **Semi-Supervised Learning**: Uses a small amount of labeled data and a large amount of unlabeled data.\n"
   ]
  },
  {
   "cell_type": "markdown",
   "id": "e8d594e4-2e71-4b20-b32f-e3bb681f92fd",
   "metadata": {},
   "source": [
    "## Q6: What is train, test, and validation split? Explain the importance of each term.\n",
    "\n",
    "- **Train Set**: Used to train the model.\n",
    "- **Validation Set**: Used to tune hyperparameters and prevent overfitting.\n",
    "- **Test Set**: Used to evaluate the final model performance.\n",
    "\n",
    "Importance: Ensures that the model generalizes well to new, unseen data.\n"
   ]
  },
  {
   "cell_type": "markdown",
   "id": "22df03d6-86eb-43fb-a010-71ef760119be",
   "metadata": {},
   "source": [
    "## Q7: How can unsupervised learning be used in anomaly detection?\n",
    "\n",
    "Unsupervised learning can identify outliers or anomalies in data by modeling the normal data distribution and detecting deviations.\n",
    "\n",
    "Examples:\n",
    "- Isolation Forest\n",
    "- One-Class SVM\n"
   ]
  },
  {
   "cell_type": "markdown",
   "id": "db05e37f-e8e8-41a8-866a-feba1400f325",
   "metadata": {},
   "source": [
    "## Q8: List down some commonly used supervised learning algorithms and unsupervised learning algorithms.\n",
    "\n",
    "- **Supervised Learning Algorithms**:\n",
    "  - Linear Regression\n",
    "  - Logistic Regression\n",
    "  - Decision Trees\n",
    "  - Random Forest\n",
    "  - Support Vector Machines (SVM)\n",
    "\n",
    "- **Unsupervised Learning Algorithms**:\n",
    "  - K-means Clustering\n",
    "  - Hierarchical Clustering\n",
    "  - Principal Component Analysis (PCA)\n",
    "  - Autoencoders\n"
   ]
  },
  {
   "cell_type": "code",
   "execution_count": null,
   "id": "175d656d-f6a7-4eed-bc9b-e34e6c2b2f2e",
   "metadata": {},
   "outputs": [],
   "source": []
  }
 ],
 "metadata": {
  "kernelspec": {
   "display_name": "Python 3 (ipykernel)",
   "language": "python",
   "name": "python3"
  },
  "language_info": {
   "codemirror_mode": {
    "name": "ipython",
    "version": 3
   },
   "file_extension": ".py",
   "mimetype": "text/x-python",
   "name": "python",
   "nbconvert_exporter": "python",
   "pygments_lexer": "ipython3",
   "version": "3.10.8"
  }
 },
 "nbformat": 4,
 "nbformat_minor": 5
}
